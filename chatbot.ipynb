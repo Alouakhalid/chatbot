{
  "nbformat": 4,
  "nbformat_minor": 0,
  "metadata": {
    "colab": {
      "provenance": []
    },
    "kernelspec": {
      "name": "python3",
      "display_name": "Python 3"
    },
    "language_info": {
      "name": "python"
    }
  },
  "cells": [
    {
      "cell_type": "code",
      "execution_count": 7,
      "metadata": {
        "id": "SGQwAdWajgFh"
      },
      "outputs": [],
      "source": [
        "import nltk\n",
        "import random"
      ]
    },
    {
      "cell_type": "code",
      "source": [
        "nltk.download('punkt')\n",
        "\n",
        "responses = {\n",
        "    \"hello\": [\"Hi there!\", \"Hello!\", \"Hey! How can I help you?\"],\n",
        "    \"how are you\": [\"I'm good, thanks!\", \"Doing well! What about you?\", \"I'm here to help!\"],\n",
        "    \"bye\": [\"Goodbye!\", \"See you later!\", \"Take care!\"],\n",
        "    \"default\": [\"Sorry, I didn't understand that.\", \"Can you rephrase that?\", \"I'm not sure how to respond.\"]\n",
        "}"
      ],
      "metadata": {
        "colab": {
          "base_uri": "https://localhost:8080/"
        },
        "id": "NMukaR-ZkpeE",
        "outputId": "c0f4eff7-df24-4563-b257-3f625a51e38e"
      },
      "execution_count": 8,
      "outputs": [
        {
          "output_type": "stream",
          "name": "stderr",
          "text": [
            "[nltk_data] Downloading package punkt to /root/nltk_data...\n",
            "[nltk_data]   Package punkt is already up-to-date!\n"
          ]
        }
      ]
    },
    {
      "cell_type": "code",
      "source": [
        "def preprocess(text):\n",
        "    return text.lower()\n",
        "\n",
        "def get_response(user_input):\n",
        "    user_input = preprocess(user_input)\n",
        "    for key in responses:\n",
        "        if key in user_input:\n",
        "            return random.choice(responses[key])\n",
        "    return random.choice(responses[\"default\"])"
      ],
      "metadata": {
        "id": "WDTbgoQTkrb6"
      },
      "execution_count": 9,
      "outputs": []
    },
    {
      "cell_type": "code",
      "source": [
        "def chat():\n",
        "    print(\"Chatbot: Hello! Type 'bye' to exit.\")\n",
        "    while True:\n",
        "        user_input = input(\"You: \")\n",
        "        if \"bye\" in user_input.lower():\n",
        "            print(\"Chatbot:\", random.choice(responses[\"bye\"]))\n",
        "            break\n",
        "        print(\"Chatbot:\", get_response(user_input))\n",
        "\n",
        "if __name__ == \"__main__\":\n",
        "    chat()"
      ],
      "metadata": {
        "colab": {
          "base_uri": "https://localhost:8080/"
        },
        "id": "tXBb_w7MktOi",
        "outputId": "d6dfad32-92af-459a-8506-56cc634e8efc"
      },
      "execution_count": 10,
      "outputs": [
        {
          "output_type": "stream",
          "name": "stdout",
          "text": [
            "Chatbot: Hello! Type 'bye' to exit.\n",
            "You: Hello\n",
            "Chatbot: Hello!\n",
            "You: How are you?\n",
            "Chatbot: I'm here to help!\n",
            "You: bye\n",
            "Chatbot: Goodbye!\n"
          ]
        }
      ]
    }
  ]
}